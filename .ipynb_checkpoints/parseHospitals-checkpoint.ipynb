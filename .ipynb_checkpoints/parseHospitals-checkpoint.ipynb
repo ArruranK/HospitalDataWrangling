{
 "cells": [
  {
   "cell_type": "code",
   "execution_count": 144,
   "metadata": {},
   "outputs": [],
   "source": [
    "from tabula.io import read_pdf\n",
    "import pandas as pd\n",
    "import re"
   ]
  },
  {
   "cell_type": "code",
   "execution_count": 145,
   "metadata": {},
   "outputs": [],
   "source": [
    "filepath = \"./list_of_bc_hospitals.pdf\"\n",
    "tables = read_pdf(filepath,pages=\"1-14\",lattice = True, silent = True)"
   ]
  },
  {
   "cell_type": "code",
   "execution_count": 146,
   "metadata": {
    "scrolled": true
   },
   "outputs": [],
   "source": [
    "city = []\n",
    "postalCode = []\n",
    "name = []\n",
    "healthAuthority = []\n",
    "\n",
    "authorities = [\"Fraser Health Authority\", \n",
    "                \"Vancouver Island Health Authority\", \n",
    "                \"Interior Health Authority\",\n",
    "                \"Vancouver Coastal Health Authority\",\n",
    "                \"Northern Health Authority\",\n",
    "                \"Provincial Health Services Authority\",\n",
    "                \"Providence Health Care Society\"]\n",
    "\n",
    "\n",
    "# functions to extract information from a cell\n",
    "\n",
    "extractCity = lambda x: x.split(\"\\r\",1)[0] # split string by carriage return '\\r' and retrieve first line\n",
    "\n",
    "extractPostalCode = lambda x: re.findall(\"[A-Z][0-9][A-Z] [0-9][A-Z][0-9]\", x)[0] # find postal code by matching regex\n",
    "\n",
    "def extractName(x): # find name of hospital by returning substring before health authority\n",
    "    x = x.replace(\"\\r\", \" \")\n",
    "    i = 0\n",
    "    for a in authorities:\n",
    "        if a in x: \n",
    "            i = x.index(a)\n",
    "            return x[:i]\n",
    "    return 'St. Joseph’s General Hospital' # corner case\n",
    "\n",
    "def extractHealthAuthority(x): # check if a known health authority is within the column and return the name\n",
    "    x = x.replace(\"\\r\", \" \")\n",
    "    \n",
    "    if 'St. Joseph’s General Hospital' in x: # corner case\n",
    "        return \"Vancouver Island Health Authority\"\n",
    "    \n",
    "    for a in authorities:\n",
    "        if a in x:\n",
    "            return a\n",
    "    return \"No Authority Found\"\n",
    "\n",
    "\n",
    "\n",
    "# iterate over each table found in the pdf and collect data from the cells\n",
    "\n",
    "for i, table in enumerate(tables):\n",
    "    \n",
    "    columnOne = list(tables[i].iloc[:,0])\n",
    "    \n",
    "    cities = map(extractCity, columnOne)\n",
    "    city += cities\n",
    "    \n",
    "    postalCodes = map(extractPostalCode, columnOne) \n",
    "    postalCode += postalCodes\n",
    "    \n",
    "    columnTwo = list(tables[i].iloc[:,1])\n",
    "    \n",
    "    healthAuthorities = map(extractHealthAuthority, columnTwo)\n",
    "    healthAuthority += healthAuthorities\n",
    "    \n",
    "    names = map(extractName, columnTwo)\n",
    "    name += names\n",
    "    \n"
   ]
  },
  {
   "cell_type": "code",
   "execution_count": 147,
   "metadata": {},
   "outputs": [],
   "source": [
    "data = { 'city': city, 'postal_code': postalCode, 'hospital_name': name, 'health_authority': healthAuthority}\n",
    "\n",
    "df = pd.DataFrame(data)\n",
    "\n",
    "df.to_csv('hospital_list.csv', index = False)"
   ]
  },
  {
   "cell_type": "code",
   "execution_count": null,
   "metadata": {},
   "outputs": [],
   "source": []
  }
 ],
 "metadata": {
  "kernelspec": {
   "display_name": "Python 3",
   "language": "python",
   "name": "python3"
  },
  "language_info": {
   "codemirror_mode": {
    "name": "ipython",
    "version": 3
   },
   "file_extension": ".py",
   "mimetype": "text/x-python",
   "name": "python",
   "nbconvert_exporter": "python",
   "pygments_lexer": "ipython3",
   "version": "3.8.3"
  }
 },
 "nbformat": 4,
 "nbformat_minor": 4
}
